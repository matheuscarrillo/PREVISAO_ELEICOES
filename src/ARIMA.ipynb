{
 "cells": [
  {
   "cell_type": "markdown",
   "metadata": {},
   "source": [
    "###### Libs"
   ]
  },
  {
   "cell_type": "code",
   "execution_count": 1,
   "metadata": {},
   "outputs": [],
   "source": [
    "import pandas as pd"
   ]
  },
  {
   "cell_type": "code",
   "execution_count": 2,
   "metadata": {},
   "outputs": [],
   "source": [
    "import pandas_profiling"
   ]
  },
  {
   "cell_type": "code",
   "execution_count": 3,
   "metadata": {},
   "outputs": [],
   "source": [
    "from pandas.plotting import autocorrelation_plot\n",
    "from matplotlib import pyplot"
   ]
  },
  {
   "cell_type": "code",
   "execution_count": 4,
   "metadata": {},
   "outputs": [],
   "source": [
    "import warnings\n",
    "warnings.filterwarnings('ignore')"
   ]
  },
  {
   "cell_type": "markdown",
   "metadata": {},
   "source": [
    "###### Leitura das bases"
   ]
  },
  {
   "cell_type": "code",
   "execution_count": 5,
   "metadata": {},
   "outputs": [],
   "source": [
    "df_intencoes=pd.read_csv('./Bases/01_intencoes_final_reduzido.csv')"
   ]
  },
  {
   "cell_type": "code",
   "execution_count": 6,
   "metadata": {},
   "outputs": [],
   "source": [
    "df_twitter=pd.read_csv('./Bases/02_twitter_final_reduzido_enviar.csv')"
   ]
  },
  {
   "cell_type": "code",
   "execution_count": 7,
   "metadata": {},
   "outputs": [],
   "source": [
    "df_expectativas=pd.read_csv('./Bases/03_expectativas_final_reduzido_enviar.csv')"
   ]
  },
  {
   "cell_type": "code",
   "execution_count": 8,
   "metadata": {},
   "outputs": [],
   "source": [
    "df_gabarito=pd.read_csv('./Bases/gabarito_embranco.csv')"
   ]
  },
  {
   "cell_type": "code",
   "execution_count": 9,
   "metadata": {},
   "outputs": [
    {
     "data": {
      "text/html": [
       "<div>\n",
       "<style scoped>\n",
       "    .dataframe tbody tr th:only-of-type {\n",
       "        vertical-align: middle;\n",
       "    }\n",
       "\n",
       "    .dataframe tbody tr th {\n",
       "        vertical-align: top;\n",
       "    }\n",
       "\n",
       "    .dataframe thead th {\n",
       "        text-align: right;\n",
       "    }\n",
       "</style>\n",
       "<table border=\"1\" class=\"dataframe\">\n",
       "  <thead>\n",
       "    <tr style=\"text-align: right;\">\n",
       "      <th></th>\n",
       "      <th>dateref</th>\n",
       "      <th>date</th>\n",
       "      <th>horizonte</th>\n",
       "      <th>diferenca_lula_bolsonaro</th>\n",
       "    </tr>\n",
       "  </thead>\n",
       "  <tbody>\n",
       "    <tr>\n",
       "      <th>0</th>\n",
       "      <td>2021-01-18</td>\n",
       "      <td>2021-01-19</td>\n",
       "      <td>1</td>\n",
       "      <td>NaN</td>\n",
       "    </tr>\n",
       "    <tr>\n",
       "      <th>1</th>\n",
       "      <td>2021-01-18</td>\n",
       "      <td>2021-01-20</td>\n",
       "      <td>2</td>\n",
       "      <td>NaN</td>\n",
       "    </tr>\n",
       "    <tr>\n",
       "      <th>2</th>\n",
       "      <td>2021-01-18</td>\n",
       "      <td>2021-01-21</td>\n",
       "      <td>3</td>\n",
       "      <td>NaN</td>\n",
       "    </tr>\n",
       "    <tr>\n",
       "      <th>3</th>\n",
       "      <td>2021-01-18</td>\n",
       "      <td>2021-01-22</td>\n",
       "      <td>4</td>\n",
       "      <td>NaN</td>\n",
       "    </tr>\n",
       "    <tr>\n",
       "      <th>4</th>\n",
       "      <td>2021-01-18</td>\n",
       "      <td>2021-01-23</td>\n",
       "      <td>5</td>\n",
       "      <td>NaN</td>\n",
       "    </tr>\n",
       "    <tr>\n",
       "      <th>5</th>\n",
       "      <td>2021-01-18</td>\n",
       "      <td>2021-01-24</td>\n",
       "      <td>6</td>\n",
       "      <td>NaN</td>\n",
       "    </tr>\n",
       "    <tr>\n",
       "      <th>6</th>\n",
       "      <td>2021-01-18</td>\n",
       "      <td>2021-01-25</td>\n",
       "      <td>7</td>\n",
       "      <td>NaN</td>\n",
       "    </tr>\n",
       "    <tr>\n",
       "      <th>7</th>\n",
       "      <td>2021-01-18</td>\n",
       "      <td>2021-01-26</td>\n",
       "      <td>8</td>\n",
       "      <td>NaN</td>\n",
       "    </tr>\n",
       "    <tr>\n",
       "      <th>8</th>\n",
       "      <td>2021-01-18</td>\n",
       "      <td>2021-01-27</td>\n",
       "      <td>9</td>\n",
       "      <td>NaN</td>\n",
       "    </tr>\n",
       "    <tr>\n",
       "      <th>9</th>\n",
       "      <td>2021-01-18</td>\n",
       "      <td>2021-01-28</td>\n",
       "      <td>10</td>\n",
       "      <td>NaN</td>\n",
       "    </tr>\n",
       "    <tr>\n",
       "      <th>10</th>\n",
       "      <td>2021-01-18</td>\n",
       "      <td>2021-01-29</td>\n",
       "      <td>11</td>\n",
       "      <td>NaN</td>\n",
       "    </tr>\n",
       "    <tr>\n",
       "      <th>11</th>\n",
       "      <td>2021-01-18</td>\n",
       "      <td>2021-01-30</td>\n",
       "      <td>12</td>\n",
       "      <td>NaN</td>\n",
       "    </tr>\n",
       "    <tr>\n",
       "      <th>12</th>\n",
       "      <td>2021-01-18</td>\n",
       "      <td>2021-01-31</td>\n",
       "      <td>13</td>\n",
       "      <td>NaN</td>\n",
       "    </tr>\n",
       "    <tr>\n",
       "      <th>13</th>\n",
       "      <td>2021-01-18</td>\n",
       "      <td>2021-02-01</td>\n",
       "      <td>14</td>\n",
       "      <td>NaN</td>\n",
       "    </tr>\n",
       "    <tr>\n",
       "      <th>14</th>\n",
       "      <td>2021-01-18</td>\n",
       "      <td>2021-02-02</td>\n",
       "      <td>15</td>\n",
       "      <td>NaN</td>\n",
       "    </tr>\n",
       "  </tbody>\n",
       "</table>\n",
       "</div>"
      ],
      "text/plain": [
       "       dateref        date  horizonte  diferenca_lula_bolsonaro\n",
       "0   2021-01-18  2021-01-19          1                       NaN\n",
       "1   2021-01-18  2021-01-20          2                       NaN\n",
       "2   2021-01-18  2021-01-21          3                       NaN\n",
       "3   2021-01-18  2021-01-22          4                       NaN\n",
       "4   2021-01-18  2021-01-23          5                       NaN\n",
       "5   2021-01-18  2021-01-24          6                       NaN\n",
       "6   2021-01-18  2021-01-25          7                       NaN\n",
       "7   2021-01-18  2021-01-26          8                       NaN\n",
       "8   2021-01-18  2021-01-27          9                       NaN\n",
       "9   2021-01-18  2021-01-28         10                       NaN\n",
       "10  2021-01-18  2021-01-29         11                       NaN\n",
       "11  2021-01-18  2021-01-30         12                       NaN\n",
       "12  2021-01-18  2021-01-31         13                       NaN\n",
       "13  2021-01-18  2021-02-01         14                       NaN\n",
       "14  2021-01-18  2021-02-02         15                       NaN"
      ]
     },
     "execution_count": 9,
     "metadata": {},
     "output_type": "execute_result"
    }
   ],
   "source": [
    "df_gabarito.head(15)"
   ]
  },
  {
   "cell_type": "markdown",
   "metadata": {},
   "source": [
    "###### Explorando..."
   ]
  },
  {
   "cell_type": "markdown",
   "metadata": {},
   "source": [
    "df_intencoes é composta apenas por duas colunas: <br> \n",
    "- data \n",
    "- diferença em pp das inteções de voto em Lula menos as intenções de voto em Bolsonaro"
   ]
  },
  {
   "cell_type": "code",
   "execution_count": 10,
   "metadata": {
    "scrolled": false
   },
   "outputs": [
    {
     "data": {
      "text/html": [
       "<div>\n",
       "<style scoped>\n",
       "    .dataframe tbody tr th:only-of-type {\n",
       "        vertical-align: middle;\n",
       "    }\n",
       "\n",
       "    .dataframe tbody tr th {\n",
       "        vertical-align: top;\n",
       "    }\n",
       "\n",
       "    .dataframe thead th {\n",
       "        text-align: right;\n",
       "    }\n",
       "</style>\n",
       "<table border=\"1\" class=\"dataframe\">\n",
       "  <thead>\n",
       "    <tr style=\"text-align: right;\">\n",
       "      <th></th>\n",
       "      <th>date</th>\n",
       "      <th>diferenca_lula_bolsonaro</th>\n",
       "    </tr>\n",
       "  </thead>\n",
       "  <tbody>\n",
       "    <tr>\n",
       "      <th>0</th>\n",
       "      <td>2020-01-15</td>\n",
       "      <td>-1.446608</td>\n",
       "    </tr>\n",
       "    <tr>\n",
       "      <th>1</th>\n",
       "      <td>2020-01-16</td>\n",
       "      <td>-1.469969</td>\n",
       "    </tr>\n",
       "  </tbody>\n",
       "</table>\n",
       "</div>"
      ],
      "text/plain": [
       "         date  diferenca_lula_bolsonaro\n",
       "0  2020-01-15                 -1.446608\n",
       "1  2020-01-16                 -1.469969"
      ]
     },
     "execution_count": 10,
     "metadata": {},
     "output_type": "execute_result"
    }
   ],
   "source": [
    "df_intencoes.head(2)"
   ]
  },
  {
   "cell_type": "code",
   "execution_count": 11,
   "metadata": {
    "scrolled": true
   },
   "outputs": [
    {
     "data": {
      "text/plain": [
       "(853, 2)"
      ]
     },
     "execution_count": 11,
     "metadata": {},
     "output_type": "execute_result"
    }
   ],
   "source": [
    "df_intencoes.shape"
   ]
  },
  {
   "cell_type": "markdown",
   "metadata": {},
   "source": [
    "df_gabarito é um exemplo de layout do arquivo que deve ser enviado, nele temos: <br> \n",
    "- dataref: data de referência de onde os dados devem ser utilizados\n",
    "- date: data que queremos prever\n",
    "- horizonte: quantos dias a frente do último dado estamos\n",
    "- diferenca_lula_bolsonaro: diferença em pp das inteções de voto em Lula menos as intenções de voto em Bolsonaro"
   ]
  },
  {
   "cell_type": "code",
   "execution_count": 12,
   "metadata": {
    "scrolled": true
   },
   "outputs": [
    {
     "data": {
      "text/html": [
       "<div>\n",
       "<style scoped>\n",
       "    .dataframe tbody tr th:only-of-type {\n",
       "        vertical-align: middle;\n",
       "    }\n",
       "\n",
       "    .dataframe tbody tr th {\n",
       "        vertical-align: top;\n",
       "    }\n",
       "\n",
       "    .dataframe thead th {\n",
       "        text-align: right;\n",
       "    }\n",
       "</style>\n",
       "<table border=\"1\" class=\"dataframe\">\n",
       "  <thead>\n",
       "    <tr style=\"text-align: right;\">\n",
       "      <th></th>\n",
       "      <th>dateref</th>\n",
       "      <th>date</th>\n",
       "      <th>horizonte</th>\n",
       "      <th>diferenca_lula_bolsonaro</th>\n",
       "    </tr>\n",
       "  </thead>\n",
       "  <tbody>\n",
       "    <tr>\n",
       "      <th>0</th>\n",
       "      <td>2021-01-18</td>\n",
       "      <td>2021-01-19</td>\n",
       "      <td>1</td>\n",
       "      <td>NaN</td>\n",
       "    </tr>\n",
       "    <tr>\n",
       "      <th>1</th>\n",
       "      <td>2021-01-18</td>\n",
       "      <td>2021-01-20</td>\n",
       "      <td>2</td>\n",
       "      <td>NaN</td>\n",
       "    </tr>\n",
       "    <tr>\n",
       "      <th>2</th>\n",
       "      <td>2021-01-18</td>\n",
       "      <td>2021-01-21</td>\n",
       "      <td>3</td>\n",
       "      <td>NaN</td>\n",
       "    </tr>\n",
       "    <tr>\n",
       "      <th>3</th>\n",
       "      <td>2021-01-18</td>\n",
       "      <td>2021-01-22</td>\n",
       "      <td>4</td>\n",
       "      <td>NaN</td>\n",
       "    </tr>\n",
       "    <tr>\n",
       "      <th>4</th>\n",
       "      <td>2021-01-18</td>\n",
       "      <td>2021-01-23</td>\n",
       "      <td>5</td>\n",
       "      <td>NaN</td>\n",
       "    </tr>\n",
       "  </tbody>\n",
       "</table>\n",
       "</div>"
      ],
      "text/plain": [
       "      dateref        date  horizonte  diferenca_lula_bolsonaro\n",
       "0  2021-01-18  2021-01-19          1                       NaN\n",
       "1  2021-01-18  2021-01-20          2                       NaN\n",
       "2  2021-01-18  2021-01-21          3                       NaN\n",
       "3  2021-01-18  2021-01-22          4                       NaN\n",
       "4  2021-01-18  2021-01-23          5                       NaN"
      ]
     },
     "execution_count": 12,
     "metadata": {},
     "output_type": "execute_result"
    }
   ],
   "source": [
    "df_gabarito.head()"
   ]
  },
  {
   "cell_type": "code",
   "execution_count": 13,
   "metadata": {
    "scrolled": false
   },
   "outputs": [
    {
     "data": {
      "text/plain": [
       "(75, 4)"
      ]
     },
     "execution_count": 13,
     "metadata": {},
     "output_type": "execute_result"
    }
   ],
   "source": [
    "df_gabarito.shape"
   ]
  },
  {
   "cell_type": "markdown",
   "metadata": {},
   "source": [
    "df_expectativas são expectativas do GPD (Gross Domestic Product = PIB = Produto Interno Bruto) e CPI (Consumer Price Index = Parecido com a Inflação) para daqui a um ano com base na data de ref, nela temos: <br> \n",
    "- date: Data de Referência\n",
    "- BR_gdp_252: Expectativa GDP Brasil um ano a frente\n",
    "- EU_gdp_252: Expectativa GDP Zona do Euro um ano a frente\n",
    "- US_gdp_252: Expectativa GDP Estados Unidos um ano a frente\n",
    "- BR_cpi_252: Expectativa CPI Brasil um ano a frente\n",
    "- EU_cpi_252: Expectativa CPI Estados Unidos um ano a frente\n",
    "- US_cpi_252: Expectativa CPI Zona do Euro um ano a frente\n",
    "- BR_gdp_current: Expectativa GDP Brasil para o ano corrente \n",
    "- EU_gdp_current: Expectativa GDP Zona do Euro para o ano corrente \n",
    "- US_gdp_current: Expectativa GDP Estados Unidos para o ano corrente \n",
    "- BR_cpi_current: Expectativa CPI Brasil para o ano corrente \n",
    "- EU_cpi_current: Expectativa CPI Zona do Euro para o ano corrente \n",
    "- US_cpi_current: Expectativa CPI Estados Unidos para o ano corrente "
   ]
  },
  {
   "cell_type": "code",
   "execution_count": 14,
   "metadata": {
    "scrolled": true
   },
   "outputs": [
    {
     "data": {
      "text/html": [
       "<div>\n",
       "<style scoped>\n",
       "    .dataframe tbody tr th:only-of-type {\n",
       "        vertical-align: middle;\n",
       "    }\n",
       "\n",
       "    .dataframe tbody tr th {\n",
       "        vertical-align: top;\n",
       "    }\n",
       "\n",
       "    .dataframe thead th {\n",
       "        text-align: right;\n",
       "    }\n",
       "</style>\n",
       "<table border=\"1\" class=\"dataframe\">\n",
       "  <thead>\n",
       "    <tr style=\"text-align: right;\">\n",
       "      <th></th>\n",
       "      <th>date</th>\n",
       "      <th>BR_gdp_252</th>\n",
       "      <th>EU_gdp_252</th>\n",
       "      <th>US_gdp_252</th>\n",
       "      <th>BR_cpi_252</th>\n",
       "      <th>EU_cpi_252</th>\n",
       "      <th>US_cpi_252</th>\n",
       "      <th>BR_gdp_current</th>\n",
       "      <th>EU_gdp_current</th>\n",
       "      <th>US_gdp_current</th>\n",
       "      <th>BR_cpi_current</th>\n",
       "      <th>EU_cpi_current</th>\n",
       "      <th>US_cpi_current</th>\n",
       "    </tr>\n",
       "  </thead>\n",
       "  <tbody>\n",
       "    <tr>\n",
       "      <th>0</th>\n",
       "      <td>2018-01-01</td>\n",
       "      <td>-3.5</td>\n",
       "      <td>0.1</td>\n",
       "      <td>-0.45</td>\n",
       "      <td>-10.20</td>\n",
       "      <td>-2.55</td>\n",
       "      <td>1.12</td>\n",
       "      <td>8.5</td>\n",
       "      <td>-4.9</td>\n",
       "      <td>9.55</td>\n",
       "      <td>-6.20</td>\n",
       "      <td>2.45</td>\n",
       "      <td>2.12</td>\n",
       "    </tr>\n",
       "    <tr>\n",
       "      <th>1</th>\n",
       "      <td>2018-01-02</td>\n",
       "      <td>2.5</td>\n",
       "      <td>7.1</td>\n",
       "      <td>13.55</td>\n",
       "      <td>-14.15</td>\n",
       "      <td>7.45</td>\n",
       "      <td>0.12</td>\n",
       "      <td>-2.5</td>\n",
       "      <td>9.1</td>\n",
       "      <td>10.55</td>\n",
       "      <td>20.85</td>\n",
       "      <td>8.45</td>\n",
       "      <td>-2.88</td>\n",
       "    </tr>\n",
       "  </tbody>\n",
       "</table>\n",
       "</div>"
      ],
      "text/plain": [
       "         date  BR_gdp_252  EU_gdp_252  US_gdp_252  BR_cpi_252  EU_cpi_252  \\\n",
       "0  2018-01-01        -3.5         0.1       -0.45      -10.20       -2.55   \n",
       "1  2018-01-02         2.5         7.1       13.55      -14.15        7.45   \n",
       "\n",
       "   US_cpi_252  BR_gdp_current  EU_gdp_current  US_gdp_current  BR_cpi_current  \\\n",
       "0        1.12             8.5            -4.9            9.55           -6.20   \n",
       "1        0.12            -2.5             9.1           10.55           20.85   \n",
       "\n",
       "   EU_cpi_current  US_cpi_current  \n",
       "0            2.45            2.12  \n",
       "1            8.45           -2.88  "
      ]
     },
     "execution_count": 14,
     "metadata": {},
     "output_type": "execute_result"
    }
   ],
   "source": [
    "df_expectativas.head(2)"
   ]
  },
  {
   "cell_type": "code",
   "execution_count": 15,
   "metadata": {
    "scrolled": false
   },
   "outputs": [
    {
     "data": {
      "text/plain": [
       "(1597, 13)"
      ]
     },
     "execution_count": 15,
     "metadata": {},
     "output_type": "execute_result"
    }
   ],
   "source": [
    "df_expectativas.shape"
   ]
  },
  {
   "cell_type": "code",
   "execution_count": 16,
   "metadata": {
    "scrolled": false
   },
   "outputs": [],
   "source": [
    "# pandas_profiling.ProfileReport(df_expectativas)"
   ]
  },
  {
   "cell_type": "markdown",
   "metadata": {},
   "source": [
    "df_twitter contém dados sobre posts do twitter dos candidatos Lula e Bolsonaro no ambito geral, ciência-e-tecnologia, saúde, eleições, segurança-e-direitos-humanos, costumes, economia, política-externa, meio-ambiente-e-agricultura, educação, justiça e outros, nela temos: <br> \n",
    "- date:\tData\n",
    "- tweet_count_[x]_Candidato: Volume diário de tweets do Candidato sobre x\n",
    "- reply_mean_[x]_Candidato: Média diária de replies do Candidato sobre x\n",
    "- retweet_mean_[x]_Candidato: Média diária de retweets do Candidato sobre x\n",
    "- favorite_mean_[x]_Candidato: Média diária de curtidas do Candidato sobre x\n",
    "- nps_mean_[x]_Candidato: Média diária de NPS do Candidato sobre x"
   ]
  },
  {
   "cell_type": "code",
   "execution_count": 17,
   "metadata": {
    "scrolled": false
   },
   "outputs": [
    {
     "data": {
      "text/html": [
       "<div>\n",
       "<style scoped>\n",
       "    .dataframe tbody tr th:only-of-type {\n",
       "        vertical-align: middle;\n",
       "    }\n",
       "\n",
       "    .dataframe tbody tr th {\n",
       "        vertical-align: top;\n",
       "    }\n",
       "\n",
       "    .dataframe thead th {\n",
       "        text-align: right;\n",
       "    }\n",
       "</style>\n",
       "<table border=\"1\" class=\"dataframe\">\n",
       "  <thead>\n",
       "    <tr style=\"text-align: right;\">\n",
       "      <th></th>\n",
       "      <th>date</th>\n",
       "      <th>tweet_count_[geral]_Bolsonaro</th>\n",
       "      <th>reply_mean_[geral]_Bolsonaro</th>\n",
       "      <th>retweet_mean_[geral]_Bolsonaro</th>\n",
       "      <th>favorite_mean_[geral]_Bolsonaro</th>\n",
       "      <th>nps_mean_[geral]_Bolsonaro</th>\n",
       "      <th>tweet_count_[ciência-e-tecnologia]_Bolsonaro</th>\n",
       "      <th>reply_mean_[ciência-e-tecnologia]_Bolsonaro</th>\n",
       "      <th>retweet_mean_[ciência-e-tecnologia]_Bolsonaro</th>\n",
       "      <th>favorite_mean_[ciência-e-tecnologia]_Bolsonaro</th>\n",
       "      <th>...</th>\n",
       "      <th>tweet_count_[outros]_Lula</th>\n",
       "      <th>reply_mean_[outros]_Lula</th>\n",
       "      <th>retweet_mean_[outros]_Lula</th>\n",
       "      <th>favorite_mean_[outros]_Lula</th>\n",
       "      <th>nps_mean_[outros]_Lula</th>\n",
       "      <th>tweet_count_[justiça]_Lula</th>\n",
       "      <th>reply_mean_[justiça]_Lula</th>\n",
       "      <th>retweet_mean_[justiça]_Lula</th>\n",
       "      <th>favorite_mean_[justiça]_Lula</th>\n",
       "      <th>nps_mean_[justiça]_Lula</th>\n",
       "    </tr>\n",
       "  </thead>\n",
       "  <tbody>\n",
       "    <tr>\n",
       "      <th>0</th>\n",
       "      <td>2018-01-01</td>\n",
       "      <td>9.0</td>\n",
       "      <td>1885.5</td>\n",
       "      <td>3832.00</td>\n",
       "      <td>29013.00</td>\n",
       "      <td>59.72</td>\n",
       "      <td>9.0</td>\n",
       "      <td>4.0</td>\n",
       "      <td>3.0</td>\n",
       "      <td>5.0</td>\n",
       "      <td>...</td>\n",
       "      <td>4.0</td>\n",
       "      <td>4.0</td>\n",
       "      <td>5.0</td>\n",
       "      <td>3.0</td>\n",
       "      <td>2.0</td>\n",
       "      <td>5.0</td>\n",
       "      <td>0.0</td>\n",
       "      <td>0.0</td>\n",
       "      <td>2.0</td>\n",
       "      <td>7.0</td>\n",
       "    </tr>\n",
       "    <tr>\n",
       "      <th>1</th>\n",
       "      <td>2018-01-02</td>\n",
       "      <td>17.0</td>\n",
       "      <td>1243.0</td>\n",
       "      <td>3602.75</td>\n",
       "      <td>20439.75</td>\n",
       "      <td>61.05</td>\n",
       "      <td>4.0</td>\n",
       "      <td>93.0</td>\n",
       "      <td>557.0</td>\n",
       "      <td>2351.0</td>\n",
       "      <td>...</td>\n",
       "      <td>4.0</td>\n",
       "      <td>8.0</td>\n",
       "      <td>2.0</td>\n",
       "      <td>6.0</td>\n",
       "      <td>0.0</td>\n",
       "      <td>6.0</td>\n",
       "      <td>0.0</td>\n",
       "      <td>9.0</td>\n",
       "      <td>2.0</td>\n",
       "      <td>0.0</td>\n",
       "    </tr>\n",
       "  </tbody>\n",
       "</table>\n",
       "<p>2 rows × 121 columns</p>\n",
       "</div>"
      ],
      "text/plain": [
       "         date  tweet_count_[geral]_Bolsonaro  reply_mean_[geral]_Bolsonaro  \\\n",
       "0  2018-01-01                            9.0                        1885.5   \n",
       "1  2018-01-02                           17.0                        1243.0   \n",
       "\n",
       "   retweet_mean_[geral]_Bolsonaro  favorite_mean_[geral]_Bolsonaro  \\\n",
       "0                         3832.00                         29013.00   \n",
       "1                         3602.75                         20439.75   \n",
       "\n",
       "   nps_mean_[geral]_Bolsonaro  tweet_count_[ciência-e-tecnologia]_Bolsonaro  \\\n",
       "0                       59.72                                           9.0   \n",
       "1                       61.05                                           4.0   \n",
       "\n",
       "   reply_mean_[ciência-e-tecnologia]_Bolsonaro  \\\n",
       "0                                          4.0   \n",
       "1                                         93.0   \n",
       "\n",
       "   retweet_mean_[ciência-e-tecnologia]_Bolsonaro  \\\n",
       "0                                            3.0   \n",
       "1                                          557.0   \n",
       "\n",
       "   favorite_mean_[ciência-e-tecnologia]_Bolsonaro  ...  \\\n",
       "0                                             5.0  ...   \n",
       "1                                          2351.0  ...   \n",
       "\n",
       "   tweet_count_[outros]_Lula  reply_mean_[outros]_Lula  \\\n",
       "0                        4.0                       4.0   \n",
       "1                        4.0                       8.0   \n",
       "\n",
       "   retweet_mean_[outros]_Lula  favorite_mean_[outros]_Lula  \\\n",
       "0                         5.0                          3.0   \n",
       "1                         2.0                          6.0   \n",
       "\n",
       "   nps_mean_[outros]_Lula  tweet_count_[justiça]_Lula  \\\n",
       "0                     2.0                         5.0   \n",
       "1                     0.0                         6.0   \n",
       "\n",
       "   reply_mean_[justiça]_Lula  retweet_mean_[justiça]_Lula  \\\n",
       "0                        0.0                          0.0   \n",
       "1                        0.0                          9.0   \n",
       "\n",
       "   favorite_mean_[justiça]_Lula  nps_mean_[justiça]_Lula  \n",
       "0                           2.0                      7.0  \n",
       "1                           2.0                      0.0  \n",
       "\n",
       "[2 rows x 121 columns]"
      ]
     },
     "execution_count": 17,
     "metadata": {},
     "output_type": "execute_result"
    }
   ],
   "source": [
    "df_twitter.head(2)"
   ]
  },
  {
   "cell_type": "code",
   "execution_count": 18,
   "metadata": {
    "scrolled": false
   },
   "outputs": [
    {
     "data": {
      "text/plain": [
       "(1597, 121)"
      ]
     },
     "execution_count": 18,
     "metadata": {},
     "output_type": "execute_result"
    }
   ],
   "source": [
    "df_twitter.shape"
   ]
  },
  {
   "cell_type": "markdown",
   "metadata": {},
   "source": [
    "###### avaliando se a série é estacionária"
   ]
  },
  {
   "cell_type": "code",
   "execution_count": 19,
   "metadata": {},
   "outputs": [],
   "source": [
    "from statsmodels.tsa.seasonal import seasonal_decompose"
   ]
  },
  {
   "cell_type": "code",
   "execution_count": 20,
   "metadata": {},
   "outputs": [
    {
     "data": {
      "image/png": "[encoded data removed]",
      "text/plain": [
       "<Figure size 432x288 with 4 Axes>"
      ]
     },
     "metadata": {
      "needs_background": "light"
     },
     "output_type": "display_data"
    }
   ],
   "source": [
    "decompose = seasonal_decompose(df_intencoes['diferenca_lula_bolsonaro'], period=1)\n",
    "decompose.plot();"
   ]
  },
  {
   "cell_type": "code",
   "execution_count": 21,
   "metadata": {},
   "outputs": [],
   "source": [
    "from statsmodels.tsa.stattools import adfuller"
   ]
  },
  {
   "cell_type": "code",
   "execution_count": 22,
   "metadata": {},
   "outputs": [],
   "source": [
    "resultados = adfuller(df_intencoes['diferenca_lula_bolsonaro'])"
   ]
  },
  {
   "cell_type": "code",
   "execution_count": 23,
   "metadata": {},
   "outputs": [],
   "source": [
    "output = pd.Series(resultados[0:4], index=['Estatística do teste', 'p-value', 'Critério da informação maximizado', 'Número de observações usadas'])"
   ]
  },
  {
   "cell_type": "code",
   "execution_count": 24,
   "metadata": {},
   "outputs": [],
   "source": [
    "def ehEstacionaria(timeseries):\n",
    "    dftest=adfuller(timeseries, autolag='AIC')\n",
    "    dfoutput = pd.Series(dftest[0:4], index=['Estatística do teste', 'p-value', 'Critério da informação maximizado', 'Número de observações usadas'])\n",
    "    \n",
    "    for key, value in dftest[4].items():\n",
    "        \n",
    "        dfoutput['Valor Crítico (%s)'%key]=value\n",
    "        \n",
    "    if (dfoutput['Estatística do teste'] < dfoutput['Valor Crítico (5%)'] and dfoutput['p-value']<0.05):\n",
    "        print('É estacionária')\n",
    "    else:\n",
    "        print('Não é estacionária')"
   ]
  },
  {
   "cell_type": "code",
   "execution_count": 25,
   "metadata": {},
   "outputs": [
    {
     "name": "stdout",
     "output_type": "stream",
     "text": [
      "Não é estacionária\n"
     ]
    }
   ],
   "source": [
    "ehEstacionaria(df_intencoes['diferenca_lula_bolsonaro'])"
   ]
  },
  {
   "cell_type": "markdown",
   "metadata": {},
   "source": [
    "##### Tornando a série estacionária"
   ]
  },
  {
   "cell_type": "code",
   "execution_count": 26,
   "metadata": {},
   "outputs": [],
   "source": [
    "dfdiff = df_intencoes.diferenca_lula_bolsonaro.diff()"
   ]
  },
  {
   "cell_type": "code",
   "execution_count": 27,
   "metadata": {},
   "outputs": [],
   "source": [
    "dfdiff = dfdiff.dropna()"
   ]
  },
  {
   "cell_type": "code",
   "execution_count": 28,
   "metadata": {},
   "outputs": [
    {
     "data": {
      "image/png": "[encoded data removed]",
      "text/plain": [
       "<Figure size 432x288 with 1 Axes>"
      ]
     },
     "metadata": {
      "needs_background": "light"
     },
     "output_type": "display_data"
    }
   ],
   "source": [
    "pyplot.title('Primeira diferenciação')\n",
    "dfdiff.plot()\n",
    "pyplot.show()"
   ]
  },
  {
   "cell_type": "code",
   "execution_count": 29,
   "metadata": {},
   "outputs": [
    {
     "name": "stdout",
     "output_type": "stream",
     "text": [
      "Não é estacionária\n"
     ]
    }
   ],
   "source": [
    "ehEstacionaria(dfdiff)"
   ]
  },
  {
   "cell_type": "code",
   "execution_count": 30,
   "metadata": {},
   "outputs": [],
   "source": [
    "dfdiff = dfdiff.diff().dropna()"
   ]
  },
  {
   "cell_type": "code",
   "execution_count": 31,
   "metadata": {},
   "outputs": [
    {
     "data": {
      "image/png": "[encoded data removed]",
      "text/plain": [
       "<Figure size 432x288 with 1 Axes>"
      ]
     },
     "metadata": {
      "needs_background": "light"
     },
     "output_type": "display_data"
    }
   ],
   "source": [
    "pyplot.title('Segunda diferenciação')\n",
    "dfdiff.plot()\n",
    "pyplot.show()"
   ]
  },
  {
   "cell_type": "code",
   "execution_count": 32,
   "metadata": {
    "scrolled": true
   },
   "outputs": [
    {
     "name": "stdout",
     "output_type": "stream",
     "text": [
      "É estacionária\n"
     ]
    }
   ],
   "source": [
    "ehEstacionaria(dfdiff)"
   ]
  },
  {
   "cell_type": "markdown",
   "metadata": {},
   "source": [
    "###### Montando primeiro modelo - Verificando quantidade de lags ideal "
   ]
  },
  {
   "cell_type": "code",
   "execution_count": 33,
   "metadata": {},
   "outputs": [],
   "source": [
    "from datetime import datetime"
   ]
  },
  {
   "cell_type": "code",
   "execution_count": 34,
   "metadata": {},
   "outputs": [],
   "source": [
    "df_intencoes_filtrada = df_intencoes.copy()"
   ]
  },
  {
   "cell_type": "code",
   "execution_count": 35,
   "metadata": {},
   "outputs": [],
   "source": [
    "df_intencoes_filtrada.reset_index(inplace=True)"
   ]
  },
  {
   "cell_type": "code",
   "execution_count": 36,
   "metadata": {},
   "outputs": [],
   "source": [
    "df_intencoes_filtrada['date']=pd.to_datetime(df_intencoes_filtrada['date'])"
   ]
  },
  {
   "cell_type": "code",
   "execution_count": 37,
   "metadata": {},
   "outputs": [],
   "source": [
    "df_intencoes_filtrada = df_intencoes_filtrada[(df_intencoes_filtrada['date']>datetime(2022,5,1))]"
   ]
  },
  {
   "cell_type": "code",
   "execution_count": 38,
   "metadata": {},
   "outputs": [],
   "source": [
    "df_intencoes_filtrada = df_intencoes_filtrada.set_index('date')"
   ]
  },
  {
   "cell_type": "code",
   "execution_count": 40,
   "metadata": {},
   "outputs": [
    {
     "data": {
      "text/plain": [
       "15"
      ]
     },
     "execution_count": 40,
     "metadata": {},
     "output_type": "execute_result"
    }
   ],
   "source": [
    "df_intencoes_filtrada.shape[0]"
   ]
  },
  {
   "cell_type": "code",
   "execution_count": 41,
   "metadata": {
    "scrolled": false
   },
   "outputs": [
    {
     "data": {
      "image/png": "[encoded data removed]",
      "text/plain": [
       "<Figure size 432x288 with 1 Axes>"
      ]
     },
     "metadata": {
      "needs_background": "light"
     },
     "output_type": "display_data"
    }
   ],
   "source": [
    "autocorrelation_plot(df_intencoes_filtrada)\n",
    "pyplot.show()"
   ]
  },
  {
   "cell_type": "code",
   "execution_count": 42,
   "metadata": {
    "scrolled": false
   },
   "outputs": [
    {
     "data": {
      "image/png": "[encoded data removed]",
      "text/plain": [
       "<Figure size 432x288 with 1 Axes>"
      ]
     },
     "metadata": {
      "needs_background": "light"
     },
     "output_type": "display_data"
    }
   ],
   "source": [
    "autocorrelation_plot(dfdiff)\n",
    "pyplot.show()"
   ]
  },
  {
   "cell_type": "code",
   "execution_count": 43,
   "metadata": {},
   "outputs": [],
   "source": [
    "import pandas.util.testing as tm\n",
    "from statsmodels.graphics.tsaplots import plot_acf\n",
    "from statsmodels.graphics.tsaplots import plot_pacf\n",
    "from matplotlib import pyplot"
   ]
  },
  {
   "cell_type": "code",
   "execution_count": 48,
   "metadata": {},
   "outputs": [],
   "source": [
    "df_intencoes_filtrada.drop(['index'], axis=1, inplace=True)"
   ]
  },
  {
   "cell_type": "code",
   "execution_count": 49,
   "metadata": {},
   "outputs": [
    {
     "name": "stdout",
     "output_type": "stream",
     "text": [
      "É estacionária\n"
     ]
    }
   ],
   "source": [
    "ehEstacionaria(df_intencoes_filtrada.diff().dropna())"
   ]
  },
  {
   "cell_type": "code",
   "execution_count": 50,
   "metadata": {},
   "outputs": [
    {
     "data": {
      "image/png": "[encoded data removed]",
      "text/plain": [
       "<Figure size 432x288 with 1 Axes>"
      ]
     },
     "metadata": {
      "needs_background": "light"
     },
     "output_type": "display_data"
    }
   ],
   "source": [
    "plot_acf(df_intencoes_filtrada.diff().dropna(), lags=10)\n",
    "pyplot.show()"
   ]
  },
  {
   "cell_type": "code",
   "execution_count": 51,
   "metadata": {},
   "outputs": [
    {
     "data": {
      "text/plain": [
       "(851,)"
      ]
     },
     "execution_count": 51,
     "metadata": {},
     "output_type": "execute_result"
    }
   ],
   "source": [
    "dfdiff.shape"
   ]
  },
  {
   "cell_type": "code",
   "execution_count": 52,
   "metadata": {},
   "outputs": [
    {
     "data": {
      "image/png": "[encoded data removed]",
      "text/plain": [
       "<Figure size 432x288 with 1 Axes>"
      ]
     },
     "metadata": {
      "needs_background": "light"
     },
     "output_type": "display_data"
    }
   ],
   "source": [
    "plot_acf(dfdiff, lags=10)\n",
    "pyplot.show()"
   ]
  },
  {
   "cell_type": "code",
   "execution_count": 55,
   "metadata": {},
   "outputs": [
    {
     "data": {
      "image/png": "[encoded data removed]",
      "text/plain": [
       "<Figure size 432x288 with 1 Axes>"
      ]
     },
     "metadata": {
      "needs_background": "light"
     },
     "output_type": "display_data"
    }
   ],
   "source": [
    "plot_acf(df_intencoes.set_index(['date']), lags=10)\n",
    "pyplot.show()"
   ]
  },
  {
   "cell_type": "markdown",
   "metadata": {},
   "source": [
    "- Deve diferenciar a série em 2 vezes, caso use o período completo"
   ]
  },
  {
   "cell_type": "markdown",
   "metadata": {},
   "source": [
    "###### Juntando informações"
   ]
  },
  {
   "cell_type": "code",
   "execution_count": 56,
   "metadata": {},
   "outputs": [],
   "source": [
    "df_features=pd.merge(df_expectativas, df_twitter, how='left', on='date')"
   ]
  },
  {
   "cell_type": "code",
   "execution_count": 57,
   "metadata": {},
   "outputs": [],
   "source": [
    "df_all=pd.merge(df_intencoes, df_features, how='left', on='date')"
   ]
  },
  {
   "cell_type": "markdown",
   "metadata": {},
   "source": [
    "# GERANDO MODELO"
   ]
  },
  {
   "cell_type": "markdown",
   "metadata": {},
   "source": [
    "###### Montando primeiro modelo - Definindo treino, teste"
   ]
  },
  {
   "cell_type": "markdown",
   "metadata": {},
   "source": [
    "Definando datas manualmente"
   ]
  },
  {
   "cell_type": "code",
   "execution_count": 60,
   "metadata": {},
   "outputs": [],
   "source": [
    "datas_treino=list(df_intencoes[df_intencoes['date']<'2021-01-19']['date'])[:-15]"
   ]
  },
  {
   "cell_type": "code",
   "execution_count": 61,
   "metadata": {},
   "outputs": [],
   "source": [
    "datas_teste=list(df_features[df_features['date']<'2021-01-19']['date'])[-15:]"
   ]
  },
  {
   "cell_type": "markdown",
   "metadata": {},
   "source": [
    "###### Montando primeiro modelo - Separando bases"
   ]
  },
  {
   "cell_type": "code",
   "execution_count": 62,
   "metadata": {},
   "outputs": [],
   "source": [
    "df_features.set_index('date', inplace=True)"
   ]
  },
  {
   "cell_type": "code",
   "execution_count": 63,
   "metadata": {},
   "outputs": [],
   "source": [
    "features=['nps_mean_[geral]_Bolsonaro', 'nps_mean_[geral]_Lula']"
   ]
  },
  {
   "cell_type": "code",
   "execution_count": 65,
   "metadata": {},
   "outputs": [],
   "source": [
    "X_treino=df_features.loc[datas_treino, features].values"
   ]
  },
  {
   "cell_type": "code",
   "execution_count": 66,
   "metadata": {},
   "outputs": [],
   "source": [
    "X_teste=df_features.loc[datas_teste, features].values"
   ]
  },
  {
   "cell_type": "code",
   "execution_count": 74,
   "metadata": {},
   "outputs": [],
   "source": [
    "df_intencoes = df_intencoes.set_index(['date'])"
   ]
  },
  {
   "cell_type": "code",
   "execution_count": 75,
   "metadata": {},
   "outputs": [],
   "source": [
    "y_treino=df_intencoes.loc[datas_treino, 'diferenca_lula_bolsonaro'].values"
   ]
  },
  {
   "cell_type": "code",
   "execution_count": 76,
   "metadata": {},
   "outputs": [],
   "source": [
    "y_teste=df_intencoes.loc[datas_teste, 'diferenca_lula_bolsonaro'].values"
   ]
  },
  {
   "cell_type": "markdown",
   "metadata": {},
   "source": [
    "###### Montando primeiro modelo - Fitando"
   ]
  },
  {
   "cell_type": "code",
   "execution_count": 77,
   "metadata": {},
   "outputs": [],
   "source": [
    "from statsmodels.tsa.arima.model import ARIMA"
   ]
  },
  {
   "cell_type": "code",
   "execution_count": 78,
   "metadata": {},
   "outputs": [],
   "source": [
    "# ARIMA (p, d, q) onde p=lags, d=diferenciação e q=nivel de média movel\n",
    "model=ARIMA(endog=y_treino, order=(6, 1, 1), exog=X_treino)"
   ]
  },
  {
   "cell_type": "code",
   "execution_count": 79,
   "metadata": {},
   "outputs": [
    {
     "name": "stderr",
     "output_type": "stream",
     "text": [
      "C:\\Users\\mathe\\Anaconda3\\lib\\site-packages\\statsmodels\\base\\model.py:604: ConvergenceWarning: Maximum Likelihood optimization failed to converge. Check mle_retvals\n",
      "  warnings.warn(\"Maximum Likelihood optimization failed to \"\n"
     ]
    }
   ],
   "source": [
    "model_fit=model.fit()"
   ]
  },
  {
   "cell_type": "code",
   "execution_count": 80,
   "metadata": {},
   "outputs": [],
   "source": [
    "pred = list()\n",
    "for i in range(0,len(X_teste)):\n",
    "    pred.append(model_fit.forecast(exog=X_teste[i])[0])"
   ]
  },
  {
   "cell_type": "markdown",
   "metadata": {},
   "source": [
    "###### Montando primeiro modelo - Verificando residuos"
   ]
  },
  {
   "cell_type": "code",
   "execution_count": 82,
   "metadata": {},
   "outputs": [
    {
     "data": {
      "image/png": "[encoded data removed]",
      "text/plain": [
       "<Figure size 432x288 with 1 Axes>"
      ]
     },
     "metadata": {
      "needs_background": "light"
     },
     "output_type": "display_data"
    }
   ],
   "source": [
    "pd.DataFrame(model_fit.resid).plot()\n",
    "pyplot.show()"
   ]
  },
  {
   "cell_type": "code",
   "execution_count": 83,
   "metadata": {},
   "outputs": [
    {
     "data": {
      "image/png": "[encoded data removed]",
      "text/plain": [
       "<Figure size 432x288 with 1 Axes>"
      ]
     },
     "metadata": {
      "needs_background": "light"
     },
     "output_type": "display_data"
    }
   ],
   "source": [
    "pd.DataFrame(model_fit.resid).plot(kind='kde')\n",
    "pyplot.show()"
   ]
  },
  {
   "cell_type": "code",
   "execution_count": 87,
   "metadata": {},
   "outputs": [],
   "source": [
    "df_intencoes_filtrada['diferenca_lula_bolsonaro'] = df_intencoes_filtrada['diferenca_lula_bolsonaro'].astype(int)"
   ]
  },
  {
   "cell_type": "code",
   "execution_count": 88,
   "metadata": {
    "scrolled": true
   },
   "outputs": [
    {
     "name": "stdout",
     "output_type": "stream",
     "text": [
      "                0\n",
      "count  355.000000\n",
      "mean    -0.004639\n",
      "std      0.077617\n",
      "min     -1.446488\n",
      "25%     -0.008157\n",
      "50%     -0.000142\n",
      "75%      0.006070\n",
      "max      0.091840\n"
     ]
    }
   ],
   "source": [
    "print(pd.DataFrame(model_fit.resid).describe())"
   ]
  },
  {
   "cell_type": "code",
   "execution_count": 89,
   "metadata": {
    "scrolled": false
   },
   "outputs": [
    {
     "name": "stdout",
     "output_type": "stream",
     "text": [
      "                               SARIMAX Results                                \n",
      "==============================================================================\n",
      "Dep. Variable:                      y   No. Observations:                  355\n",
      "Model:                 ARIMA(6, 1, 1)   Log Likelihood                1074.749\n",
      "Date:                Tue, 19 Jul 2022   AIC                          -2129.498\n",
      "Time:                        23:33:16   BIC                          -2090.805\n",
      "Sample:                             0   HQIC                         -2114.103\n",
      "                                - 355                                         \n",
      "Covariance Type:                  opg                                         \n",
      "==============================================================================\n",
      "                 coef    std err          z      P>|z|      [0.025      0.975]\n",
      "------------------------------------------------------------------------------\n",
      "x1         -1.816e-06   1.24e-05     -0.147      0.883   -2.61e-05    2.25e-05\n",
      "x2         -8.357e-07   2.78e-05     -0.030      0.976   -5.52e-05    5.36e-05\n",
      "ar.L1          0.3840      5.414      0.071      0.943     -10.227      10.995\n",
      "ar.L2          0.3620      2.747      0.132      0.895      -5.022       5.746\n",
      "ar.L3          0.1271      1.617      0.079      0.937      -3.042       3.296\n",
      "ar.L4          0.0157      0.477      0.033      0.974      -0.920       0.951\n",
      "ar.L5          0.0878      0.057      1.550      0.121      -0.023       0.199\n",
      "ar.L6         -0.0007      0.455     -0.002      0.999      -0.893       0.891\n",
      "ma.L1          0.1250      5.421      0.023      0.982     -10.500      10.750\n",
      "sigma2         0.0001   6.18e-06     21.756      0.000       0.000       0.000\n",
      "===================================================================================\n",
      "Ljung-Box (L1) (Q):                   0.00   Jarque-Bera (JB):              2017.63\n",
      "Prob(Q):                              0.98   Prob(JB):                         0.00\n",
      "Heteroskedasticity (H):               1.64   Skew:                             1.20\n",
      "Prob(H) (two-sided):                  0.01   Kurtosis:                        14.44\n",
      "===================================================================================\n",
      "\n",
      "Warnings:\n",
      "[1] Covariance matrix calculated using the outer product of gradients (complex-step).\n"
     ]
    }
   ],
   "source": [
    "print(model_fit.summary())"
   ]
  },
  {
   "cell_type": "code",
   "execution_count": 91,
   "metadata": {},
   "outputs": [
    {
     "name": "stdout",
     "output_type": "stream",
     "text": [
      "Test MAE: 0.136\n"
     ]
    }
   ],
   "source": [
    "# from numpy import sqrt\n",
    "from sklearn.metrics import mean_absolute_error\n",
    "rmse = mean_absolute_error(y_teste, pred)\n",
    "print('Test MAE: %.3f' % rmse)"
   ]
  },
  {
   "cell_type": "markdown",
   "metadata": {},
   "source": [
    "###### Montando segundo modelo - Usando o Walking Foward para testar"
   ]
  },
  {
   "cell_type": "code",
   "execution_count": 140,
   "metadata": {},
   "outputs": [],
   "source": [
    "historico=[x for x in y_treino]"
   ]
  },
  {
   "cell_type": "code",
   "execution_count": 141,
   "metadata": {},
   "outputs": [],
   "source": [
    "X_treino=df_features.loc[datas_treino, features].values"
   ]
  },
  {
   "cell_type": "code",
   "execution_count": 142,
   "metadata": {},
   "outputs": [],
   "source": [
    "X_teste=df_features.loc[datas_teste, features].values"
   ]
  },
  {
   "cell_type": "code",
   "execution_count": 143,
   "metadata": {},
   "outputs": [],
   "source": [
    "preds=list()"
   ]
  },
  {
   "cell_type": "code",
   "execution_count": 144,
   "metadata": {},
   "outputs": [],
   "source": [
    "def diferencia(dataset, intervalo=1):\n",
    "    '''Função para criar a diferenciação'''\n",
    "    diff=list()\n",
    "    for i in range(intervalo, len(dataset)):\n",
    "        valor=dataset[i]-dataset[i-intervalo]\n",
    "        diff.append(valor)\n",
    "    return diff"
   ]
  },
  {
   "cell_type": "code",
   "execution_count": 145,
   "metadata": {},
   "outputs": [],
   "source": [
    "def desdiferencia(historico, previsao, intervalo=1):\n",
    "    '''Função para reverter o valor diferenciado para o original'''\n",
    "    return previsao + historico[-intervalo]"
   ]
  },
  {
   "cell_type": "code",
   "execution_count": 146,
   "metadata": {},
   "outputs": [],
   "source": [
    "import numpy as np"
   ]
  },
  {
   "cell_type": "code",
   "execution_count": 147,
   "metadata": {},
   "outputs": [
    {
     "name": "stdout",
     "output_type": "stream",
     "text": [
      "É estacionária\n"
     ]
    }
   ],
   "source": [
    "ehEstacionaria(pd.DataFrame(y_treino).diff().dropna().diff().dropna())"
   ]
  },
  {
   "cell_type": "markdown",
   "metadata": {},
   "source": [
    "- Necessário realizar 2 diferenciacoes"
   ]
  },
  {
   "cell_type": "code",
   "execution_count": 148,
   "metadata": {},
   "outputs": [
    {
     "name": "stderr",
     "output_type": "stream",
     "text": [
      "C:\\Users\\mathe\\Anaconda3\\lib\\site-packages\\statsmodels\\base\\model.py:604: ConvergenceWarning: Maximum Likelihood optimization failed to converge. Check mle_retvals\n",
      "  warnings.warn(\"Maximum Likelihood optimization failed to \"\n",
      "C:\\Users\\mathe\\Anaconda3\\lib\\site-packages\\statsmodels\\base\\model.py:604: ConvergenceWarning: Maximum Likelihood optimization failed to converge. Check mle_retvals\n",
      "  warnings.warn(\"Maximum Likelihood optimization failed to \"\n",
      "C:\\Users\\mathe\\Anaconda3\\lib\\site-packages\\statsmodels\\base\\model.py:604: ConvergenceWarning: Maximum Likelihood optimization failed to converge. Check mle_retvals\n",
      "  warnings.warn(\"Maximum Likelihood optimization failed to \"\n",
      "C:\\Users\\mathe\\Anaconda3\\lib\\site-packages\\statsmodels\\base\\model.py:604: ConvergenceWarning: Maximum Likelihood optimization failed to converge. Check mle_retvals\n",
      "  warnings.warn(\"Maximum Likelihood optimization failed to \"\n",
      "C:\\Users\\mathe\\Anaconda3\\lib\\site-packages\\statsmodels\\base\\model.py:604: ConvergenceWarning: Maximum Likelihood optimization failed to converge. Check mle_retvals\n",
      "  warnings.warn(\"Maximum Likelihood optimization failed to \"\n",
      "C:\\Users\\mathe\\Anaconda3\\lib\\site-packages\\statsmodels\\base\\model.py:604: ConvergenceWarning: Maximum Likelihood optimization failed to converge. Check mle_retvals\n",
      "  warnings.warn(\"Maximum Likelihood optimization failed to \"\n",
      "C:\\Users\\mathe\\Anaconda3\\lib\\site-packages\\statsmodels\\base\\model.py:604: ConvergenceWarning: Maximum Likelihood optimization failed to converge. Check mle_retvals\n",
      "  warnings.warn(\"Maximum Likelihood optimization failed to \"\n"
     ]
    }
   ],
   "source": [
    "for teste in range(len(y_teste)):\n",
    "    #diferenciação\n",
    "#     diff=diferencia(historico, 1)\n",
    "    # modelo ARIMA\n",
    "    model=ARIMA(endog=historico, order=(15,2,1), exog=X_treino)\n",
    "    #fit\n",
    "    model_fit=model.fit()\n",
    "    #pred\n",
    "    valor_predito=model_fit.forecast(exog=X_teste[teste])[0]\n",
    "    #append\n",
    "    preds.append(valor_predito)\n",
    "    #valor real\n",
    "    valor_real=y_teste[teste]\n",
    "    #hist\n",
    "    historico.append(valor_predito)\n",
    "    \n",
    "    X_treino = list(X_treino)\n",
    "    X_treino.append(X_teste[teste])\n",
    "    X_treino = np.array(X_treino)\n",
    "    "
   ]
  },
  {
   "cell_type": "code",
   "execution_count": 149,
   "metadata": {},
   "outputs": [
    {
     "name": "stdout",
     "output_type": "stream",
     "text": [
      "Test MAE: 0.052\n"
     ]
    }
   ],
   "source": [
    "# from numpy import sqrt\n",
    "from sklearn.metrics import mean_absolute_error\n",
    "mae = mean_absolute_error(y_teste, preds)\n",
    "print('Test MAE: %.3f' % mae)"
   ]
  },
  {
   "cell_type": "markdown",
   "metadata": {},
   "source": [
    "###### Montando segundo modelo - olhando residuos"
   ]
  },
  {
   "cell_type": "code",
   "execution_count": 150,
   "metadata": {
    "scrolled": true
   },
   "outputs": [
    {
     "data": {
      "image/png": "[encoded data removed]",
      "text/plain": [
       "<Figure size 432x288 with 1 Axes>"
      ]
     },
     "metadata": {
      "needs_background": "light"
     },
     "output_type": "display_data"
    }
   ],
   "source": [
    "pd.DataFrame(model_fit.resid).plot()\n",
    "pyplot.show()"
   ]
  },
  {
   "cell_type": "code",
   "execution_count": 151,
   "metadata": {},
   "outputs": [
    {
     "data": {
      "image/png": "[encoded data removed]",
      "text/plain": [
       "<Figure size 432x288 with 1 Axes>"
      ]
     },
     "metadata": {
      "needs_background": "light"
     },
     "output_type": "display_data"
    }
   ],
   "source": [
    "pd.DataFrame(model_fit.resid).plot(kind='kde')\n",
    "pyplot.show()"
   ]
  },
  {
   "cell_type": "code",
   "execution_count": 152,
   "metadata": {
    "scrolled": false
   },
   "outputs": [
    {
     "name": "stdout",
     "output_type": "stream",
     "text": [
      "                0\n",
      "count  369.000000\n",
      "mean    -0.001960\n",
      "std      0.084484\n",
      "min     -1.446130\n",
      "25%     -0.006825\n",
      "50%      0.000084\n",
      "75%      0.006393\n",
      "max      0.699686\n"
     ]
    }
   ],
   "source": [
    "print(pd.DataFrame(model_fit.resid).describe())"
   ]
  },
  {
   "cell_type": "markdown",
   "metadata": {},
   "source": [
    "###### Montando segundo modelo - olhando resultado"
   ]
  },
  {
   "cell_type": "code",
   "execution_count": 153,
   "metadata": {},
   "outputs": [],
   "source": [
    "resultado=pd.DataFrame({'date': datas_teste, 'real':y_teste, 'predito':preds})"
   ]
  },
  {
   "cell_type": "code",
   "execution_count": 155,
   "metadata": {},
   "outputs": [
    {
     "data": {
      "image/png": "[encoded data removed]",
      "text/plain": [
       "<Figure size 1080x720 with 1 Axes>"
      ]
     },
     "metadata": {
      "needs_background": "light"
     },
     "output_type": "display_data"
    }
   ],
   "source": [
    "pyplot.figure(figsize=(15,10))\n",
    "pyplot.plot(resultado['real'], label = \"real\")\n",
    "pyplot.plot(resultado['predito'], label = \"predito\")\n",
    "pyplot.ylim(-12, -10)\n",
    "pyplot.legend()\n",
    "pyplot.show()"
   ]
  }
 ],
 "metadata": {
  "kernelspec": {
   "display_name": "Python 3 (ipykernel)",
   "language": "python",
   "name": "python3"
  },
  "language_info": {
   "codemirror_mode": {
    "name": "ipython",
    "version": 3
   },
   "file_extension": ".py",
   "mimetype": "text/x-python",
   "name": "python",
   "nbconvert_exporter": "python",
   "pygments_lexer": "ipython3",
   "version": "3.9.12"
  }
 },
 "nbformat": 4,
 "nbformat_minor": 4
}
